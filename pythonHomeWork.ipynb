{
 "cells": [
  {
   "cell_type": "code",
   "execution_count": 30,
   "metadata": {},
   "outputs": [],
   "source": [
    "import requests, json, urllib.parse\n",
    "base_url = 'https://itunes.apple.com/search'\n",
    "\n",
    "\n",
    "artist = 'Anna Asti'\n",
    "\n",
    "\n",
    "params = {\n",
    "    'term': artist,\n",
    "    'limit': 13,    \n",
    "    'media': 'music',\n",
    "    'entity': 'song',\n",
    "    'attribute': 'artistTerm'\n",
    "}\n",
    "\n",
    "response = requests.get(f\"{base_url}?{urllib.parse.urlencode(params)}\")\n",
    "\n",
    "data = json.loads(response.text)\n",
    "data = data['results']"
   ]
  },
  {
   "cell_type": "code",
   "execution_count": 31,
   "metadata": {},
   "outputs": [],
   "source": [
    "\n",
    "import dateutil.parser\n",
    "data = map(lambda x: {**x, 'releaseDate': dateutil.parser.isoparse(x['releaseDate'])}, data)\n",
    "data = list(data)"
   ]
  },
  {
   "cell_type": "code",
   "execution_count": 32,
   "metadata": {},
   "outputs": [
    {
     "name": "stdout",
     "output_type": "stream",
     "text": [
      "{'Pop'}\n"
     ]
    }
   ],
   "source": [
    "data = map(lambda x: {\n",
    "    'artistName': x['artistName'],\n",
    "    'kind' : x['kind'],\n",
    "    'artistId': x['artistId'],\n",
    "    'collectionId': x['collectionId'],\n",
    "    'trackId': x['trackId'],\n",
    "    'artistName': x['artistName'],\n",
    "    'collectionName': x['collectionName'],\n",
    "    'trackName': x['trackName'],\n",
    "    'collectionPrice': x['collectionPrice'],\n",
    "    'trackPrice': x['trackPrice'],\n",
    "    'releaseDate': x['releaseDate'],\n",
    "    'trackCount': x['trackCount'],\n",
    "    'trackNumber': x['trackNumber'],\n",
    "    'trackTimeMillis': x['trackTimeMillis'],\n",
    "    'country': x['country'],\n",
    "    'currency': x['currency'],\n",
    "    'primaryGenreName': x['primaryGenreName']\n",
    "}, data)\n",
    "data = list(data)\n",
    "print(set(map(lambda x: x['primaryGenreName'], data)))"
   ]
  },
  {
   "cell_type": "code",
   "execution_count": 33,
   "metadata": {},
   "outputs": [],
   "source": [
    "def convert_millis(millis: int) -> str:\n",
    "    total_seconds = millis // 1000\n",
    "    seconds = total_seconds % 60\n",
    "    minutes = (total_seconds // 60) % 60\n",
    "    hours = (total_seconds // (60 * 60))\n",
    "    return f\"{hours}:Hours,{minutes}:Minutes,{seconds}:Seconds\"\n",
    "\n",
    "def filter_list(items, value):\n",
    "    has_more = items.count(value) > 1\n",
    "    return [x for x in items if not (x == value and has_more)]\n"
   ]
  },
  {
   "cell_type": "code",
   "execution_count": 34,
   "metadata": {},
   "outputs": [],
   "source": [
    "import statistics\n",
    "countOfSongs = len(list(map(lambda x: x['trackName'], data)))\n",
    "dataGenre = (list((map(lambda x: x['primaryGenreName'], data))))\n",
    "dataAlbums = len(list(set(map(lambda x: x['collectionId'], data))))\n",
    "songsDuration = sum(list(map(lambda x : x['trackTimeMillis'],data)))\n",
    "Average_time = statistics.mean(list(map(lambda x : x['trackTimeMillis'],data)))\n",
    "median_time = list(map(lambda x : x['trackTimeMillis'],data))\n",
    "median_time.sort()\n",
    "median_time = statistics.median(median_time)\n",
    "songsCost = sum(filter_list(list(map(lambda x: x['trackPrice'], data)),-1))\n",
    "Average_cost = statistics.mean(filter_list(list(map(lambda x: x['trackPrice'], data)),-1))\n",
    "median_cost = filter_list(list(map(lambda x: x['trackPrice'], data)),-1)\n",
    "median_cost.sort()\n",
    "median_cost = statistics.median(median_cost)\n",
    "time_extractor = lambda x: x['trackTimeMillis']\n",
    "longest_song = max(data, key=time_extractor)\n",
    "shortest_song = min(data, key=time_extractor)\n",
    "\n",
    "track_price_extractor = lambda x: x['trackPrice']\n",
    "\n",
    "dearest_song = max(data, key=track_price_extractor)\n",
    "\n",
    "сheapest_song = min(data, key=track_price_extractor)"
   ]
  },
  {
   "cell_type": "code",
   "execution_count": 35,
   "metadata": {},
   "outputs": [
    {
     "name": "stdout",
     "output_type": "stream",
     "text": [
      "Artist: Anna Asti\n",
      "Count of songs: 13\n",
      "Most popular genre count: Pop - 13\n",
      "Count of albums: 3\n",
      "Songs Duration: 0:Hours,41:Minutes,57:Seconds\n",
      "Average time: 0.0:Hours,3.0:Minutes,13.0:Seconds\n",
      "Median duration songs: 0:Hours,3:Minutes,23:Seconds\n",
      "Longest song: По барам 0:Hours,3:Minutes,57:Seconds\n",
      "Shortest song: Моя птичка (Intro) 0:Hours,1:Minutes,55:Seconds\n",
      "Total cost of songs ≈  17 $\n",
      "Average cost: 1.29 $\n",
      "Median cost songs: 1.29 $\n",
      "The most expensive song: Хобби Trackrpice: 1.29\n",
      "Сheapest song: Хобби Track price: 1.29\n"
     ]
    }
   ],
   "source": [
    "\n",
    "print('Artist:',artist)\n",
    "\n",
    "print('Count of songs:',countOfSongs)\n",
    "\n",
    "print('Most popular genre count:','Pop -',dataGenre.count('Pop'))\n",
    "\n",
    "print('Count of albums:',dataAlbums)\n",
    "\n",
    "print('Songs Duration:',convert_millis(songsDuration))\n",
    "\n",
    "print('Average time:',convert_millis(Average_time))\n",
    "\n",
    "print('Median duration songs:',convert_millis(median_time))\n",
    "\n",
    "print('Longest song:', longest_song['trackName'], convert_millis(longest_song['trackTimeMillis']))\n",
    "\n",
    "print('Shortest song:', shortest_song['trackName'], convert_millis(shortest_song['trackTimeMillis']))\n",
    "\n",
    "print('Total cost of songs ≈ ',round(songsCost),'$')\n",
    "\n",
    "print('Average cost:',Average_cost,'$')\n",
    "\n",
    "print('Median cost songs:',median_cost,'$')\n",
    "\n",
    "print('The most expensive song:', dearest_song['trackName'],'Trackrpice:',dearest_song['trackPrice'])\n",
    "\n",
    "if сheapest_song['trackPrice'] == -1 : \n",
    "    print('Сheapest song:', сheapest_song['trackName'],'Track price:','Free')\n",
    "else:\n",
    "    print('Сheapest song:', сheapest_song['trackName'],'Track price:',сheapest_song['trackPrice'])\n",
    "    \n"
   ]
  },
  {
   "cell_type": "code",
   "execution_count": 36,
   "metadata": {},
   "outputs": [
    {
     "name": "stdout",
     "output_type": "stream",
     "text": [
      "['Хобби - Single', 'Феникс', 'Ночью на кухне - Single']\n",
      "[(1620839931, 'Хобби - Single'), (1626967330, 'Феникс'), (1650181343, 'Ночью на кухне - Single')]\n"
     ]
    }
   ],
   "source": [
    "from itertools import groupby\n",
    "\n",
    "collection_id_extractor = lambda x: x['collectionId']\n",
    "\n",
    "sorted_by_album = sorted(data, key=collection_id_extractor)\n",
    "album_groups = {}\n",
    "album_names = {}\n",
    "\n",
    "for album_id, songs in groupby(sorted_by_album, key=collection_id_extractor):\n",
    "    songs = list(songs)\n",
    "    album_groups[album_id] = songs \n",
    "    album_names[album_id] = songs[0]['collectionName']\n",
    "\n",
    "del sorted_by_album\n",
    "\n",
    "print(list(album_names.values()))\n",
    "print(list(album_names.items()))"
   ]
  },
  {
   "cell_type": "code",
   "execution_count": 38,
   "metadata": {},
   "outputs": [],
   "source": [
    "from itertools import count\n",
    "import dateutil.parser\n",
    "\n",
    "album_name = album_names[1626967330]\n",
    "album_values= list(album_groups[1626967330])\n"
   ]
  },
  {
   "cell_type": "code",
   "execution_count": 39,
   "metadata": {},
   "outputs": [],
   "source": [
    "\n",
    "album_songs_count = len(list(set(map(lambda x: x['trackId'], album_values))))\n",
    "dataGenre_Album = (list((map(lambda x: x['primaryGenreName'], album_values))))\n",
    "songsDuration_Album = sum(list(map(lambda x : x['trackTimeMillis'],album_values)))\n",
    "Average_time_Album = statistics.mean(list(map(lambda x : x['trackTimeMillis'],album_values)))\n",
    "median_time_Album = list(map(lambda x : x['trackTimeMillis'],album_values))\n",
    "median_time_Album.sort()\n",
    "median_time_Album = statistics.median(median_time_Album)\n",
    "\n",
    "longest_song_Album = max(album_values, key=time_extractor)\n",
    "shortest_song_Album = min(album_values, key=time_extractor)\n",
    "dearest_song_Album = max(album_values, key=track_price_extractor)\n",
    "сheapest_song_Album = min(album_values, key=track_price_extractor)\n",
    "\n",
    "\n",
    "songsCost_Album = sum(filter_list(list(map(lambda x: x['trackPrice'], album_values)),-1))\n",
    "Average_cost_Album = statistics.mean(filter_list(list(map(lambda x: x['trackPrice'], album_values)),-1))\n",
    "median_cost_Album = filter_list(list(map(lambda x: x['trackPrice'], album_values)),-1)\n",
    "median_cost_Album.sort()\n",
    "median_cost_Album = statistics.median(median_cost_Album)"
   ]
  },
  {
   "cell_type": "code",
   "execution_count": 40,
   "metadata": {},
   "outputs": [
    {
     "name": "stdout",
     "output_type": "stream",
     "text": [
      "Album name: Феникс\n",
      "Count of songs: 11\n",
      "Most popular genre count: Rock - 0\n",
      "Songs Duration: 0:Hours,34:Minutes,40:Seconds\n",
      "Average time: 0.0:Hours,3.0:Minutes,9.0:Seconds\n",
      "Median duration songs: 0:Hours,3:Minutes,21:Seconds\n",
      "Longest song: По барам 0:Hours,3:Minutes,57:Seconds\n",
      "Shortest song: Моя птичка (Intro) 0:Hours,1:Minutes,55:Seconds\n",
      "Total cost of songs ≈  14 $\n",
      "Average cost: 1.29 $\n",
      "Median cost songs: 1.29 $\n",
      "The most expensive song: Хобби Trackrpice: 1.29\n",
      "Сheapest song: Хобби Track price: 1.29\n"
     ]
    }
   ],
   "source": [
    "print('Album name:',album_name)\n",
    "\n",
    "print('Count of songs:',album_songs_count)\n",
    "\n",
    "print('Most popular genre count:','Rock -',dataGenre_Album.count('Rock'))\n",
    "\n",
    "print('Songs Duration:',convert_millis(songsDuration_Album))\n",
    "\n",
    "print('Average time:',convert_millis(Average_time_Album))\n",
    "\n",
    "print('Median duration songs:',convert_millis(median_time_Album))\n",
    "\n",
    "print('Longest song:', longest_song_Album['trackName'], convert_millis(longest_song_Album['trackTimeMillis']))\n",
    "\n",
    "print('Shortest song:', shortest_song_Album['trackName'], convert_millis(shortest_song_Album['trackTimeMillis']))\n",
    "\n",
    "print('Total cost of songs ≈ ',round(songsCost_Album),'$')\n",
    "\n",
    "print('Average cost:',Average_cost_Album,'$')\n",
    "\n",
    "print('Median cost songs:',median_cost_Album,'$')\n",
    "\n",
    "print('The most expensive song:', dearest_song_Album['trackName'],'Trackrpice:',dearest_song_Album['trackPrice'])\n",
    "\n",
    "if сheapest_song['trackPrice'] == -1 : \n",
    "    print('Сheapest song:', сheapest_song_Album['trackName'],'Track price:','Free')\n",
    "else:\n",
    "    print('Сheapest song:', сheapest_song_Album['trackName'],'Track price:',сheapest_song_Album['trackPrice'])"
   ]
  }
 ],
 "metadata": {
  "kernelspec": {
   "display_name": "Python 3.10.8 64-bit (microsoft store)",
   "language": "python",
   "name": "python3"
  },
  "language_info": {
   "codemirror_mode": {
    "name": "ipython",
    "version": 3
   },
   "file_extension": ".py",
   "mimetype": "text/x-python",
   "name": "python",
   "nbconvert_exporter": "python",
   "pygments_lexer": "ipython3",
   "version": "3.10.8"
  },
  "orig_nbformat": 4,
  "vscode": {
   "interpreter": {
    "hash": "1f5d35a149c38202697f9963d0e5598b880d200db9aed899093823bf590338e0"
   }
  }
 },
 "nbformat": 4,
 "nbformat_minor": 2
}
